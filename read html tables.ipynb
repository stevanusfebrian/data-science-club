{
 "cells": [
  {
   "cell_type": "code",
   "execution_count": 6,
   "id": "7aea3b38",
   "metadata": {},
   "outputs": [
    {
     "data": {
      "text/html": [
       "<div>\n",
       "<style scoped>\n",
       "    .dataframe tbody tr th:only-of-type {\n",
       "        vertical-align: middle;\n",
       "    }\n",
       "\n",
       "    .dataframe tbody tr th {\n",
       "        vertical-align: top;\n",
       "    }\n",
       "\n",
       "    .dataframe thead th {\n",
       "        text-align: right;\n",
       "    }\n",
       "</style>\n",
       "<table border=\"1\" class=\"dataframe\">\n",
       "  <thead>\n",
       "    <tr style=\"text-align: right;\">\n",
       "      <th></th>\n",
       "      <th>#</th>\n",
       "      <th>Driver</th>\n",
       "      <th>Nat</th>\n",
       "      <th>Team</th>\n",
       "      <th>Pts</th>\n",
       "    </tr>\n",
       "  </thead>\n",
       "  <tbody>\n",
       "    <tr>\n",
       "      <th>0</th>\n",
       "      <td>1</td>\n",
       "      <td>Max Verstappen</td>\n",
       "      <td>NED</td>\n",
       "      <td>Red Bull</td>\n",
       "      <td>255</td>\n",
       "    </tr>\n",
       "    <tr>\n",
       "      <th>1</th>\n",
       "      <td>2</td>\n",
       "      <td>Sergio Perez</td>\n",
       "      <td>MEX</td>\n",
       "      <td>Red Bull</td>\n",
       "      <td>156</td>\n",
       "    </tr>\n",
       "    <tr>\n",
       "      <th>2</th>\n",
       "      <td>3</td>\n",
       "      <td>Fernando Alonso</td>\n",
       "      <td>ESP</td>\n",
       "      <td>Aston Martin</td>\n",
       "      <td>137</td>\n",
       "    </tr>\n",
       "    <tr>\n",
       "      <th>3</th>\n",
       "      <td>4</td>\n",
       "      <td>Lewis Hamilton</td>\n",
       "      <td>GBR</td>\n",
       "      <td>Mercedes</td>\n",
       "      <td>121</td>\n",
       "    </tr>\n",
       "    <tr>\n",
       "      <th>4</th>\n",
       "      <td>5</td>\n",
       "      <td>Carlos Sainz</td>\n",
       "      <td>ESP</td>\n",
       "      <td>Ferrari</td>\n",
       "      <td>83</td>\n",
       "    </tr>\n",
       "  </tbody>\n",
       "</table>\n",
       "</div>"
      ],
      "text/plain": [
       "   #           Driver  Nat          Team  Pts\n",
       "0  1   Max Verstappen  NED      Red Bull  255\n",
       "1  2     Sergio Perez  MEX      Red Bull  156\n",
       "2  3  Fernando Alonso  ESP  Aston Martin  137\n",
       "3  4   Lewis Hamilton  GBR      Mercedes  121\n",
       "4  5     Carlos Sainz  ESP       Ferrari   83"
      ]
     },
     "execution_count": 6,
     "metadata": {},
     "output_type": "execute_result"
    }
   ],
   "source": [
    "# import library\n",
    "import pandas as pd\n",
    "\n",
    "# tabel pada website yang akan disimpan menjadi list of dataframe\n",
    "tables = pd.read_html('https://www.skysports.com/f1/standings')\n",
    "\n",
    "# assign tabel pertama ke variabel\n",
    "table = tables[0]\n",
    "\n",
    "table.head()"
   ]
  },
  {
   "cell_type": "code",
   "execution_count": null,
   "id": "48d5d737",
   "metadata": {},
   "outputs": [],
   "source": []
  }
 ],
 "metadata": {
  "kernelspec": {
   "display_name": "Python 3",
   "language": "python",
   "name": "python3"
  },
  "language_info": {
   "codemirror_mode": {
    "name": "ipython",
    "version": 3
   },
   "file_extension": ".py",
   "mimetype": "text/x-python",
   "name": "python",
   "nbconvert_exporter": "python",
   "pygments_lexer": "ipython3",
   "version": "3.8.8"
  }
 },
 "nbformat": 4,
 "nbformat_minor": 5
}
